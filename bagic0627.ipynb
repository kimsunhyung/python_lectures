{
  "nbformat": 4,
  "nbformat_minor": 0,
  "metadata": {
    "colab": {
      "name": "bagic0627.ipynb",
      "provenance": [],
      "authorship_tag": "ABX9TyNQyKSPXE4PTteRmUhLrsdm",
      "include_colab_link": true
    },
    "kernelspec": {
      "name": "python3",
      "display_name": "Python 3"
    },
    "language_info": {
      "name": "python"
    },
    "accelerator": "GPU",
    "gpuClass": "standard"
  },
  "cells": [
    {
      "cell_type": "markdown",
      "metadata": {
        "id": "view-in-github",
        "colab_type": "text"
      },
      "source": [
        "<a href=\"https://colab.research.google.com/github/kimsunhyung/python_lectures/blob/main/bagic0627.ipynb\" target=\"_parent\"><img src=\"https://colab.research.google.com/assets/colab-badge.svg\" alt=\"Open In Colab\"/></a>"
      ]
    },
    {
      "cell_type": "markdown",
      "source": [
        "## 제목 1\n",
        "- 파이선 입문 ㄴㄴ"
      ],
      "metadata": {
        "id": "eTzSqH_9lZUP"
      }
    },
    {
      "cell_type": "markdown",
      "source": [
        "### 소제목 1\n",
        "- 여기는 소제목 입니다."
      ],
      "metadata": {
        "id": "Z5jIenHBkLsw"
      }
    },
    {
      "cell_type": "code",
      "source": [
        "print(\"hello world\")"
      ],
      "metadata": {
        "colab": {
          "base_uri": "https://localhost:8080/"
        },
        "id": "iazmivOokdpt",
        "outputId": "baffc87c-b9fa-4d89-f3be-070b92117795"
      },
      "execution_count": 10,
      "outputs": [
        {
          "output_type": "stream",
          "name": "stdout",
          "text": [
            "hello world\n"
          ]
        }
      ]
    },
    {
      "cell_type": "markdown",
      "source": [
        "## 제목 2\n",
        "제목 2 섹션입니다."
      ],
      "metadata": {
        "id": "ByAz7fZrkjJd"
      }
    },
    {
      "cell_type": "markdown",
      "source": [
        "### 소제목 2\n",
        "라이브러리를 불러온다"
      ],
      "metadata": {
        "id": "OnqgHgntknM9"
      }
    },
    {
      "cell_type": "code",
      "source": [
        "print(1+1)"
      ],
      "metadata": {
        "colab": {
          "base_uri": "https://localhost:8080/"
        },
        "id": "7KkInimAkrA9",
        "outputId": "85ff12d2-7fd0-4e72-9fbe-0ca1ea2966b7"
      },
      "execution_count": 17,
      "outputs": [
        {
          "output_type": "stream",
          "name": "stdout",
          "text": [
            "2\n"
          ]
        }
      ]
    }
  ]
}