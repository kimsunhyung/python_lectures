{
  "nbformat": 4,
  "nbformat_minor": 0,
  "metadata": {
    "colab": {
      "name": "0627python_입문2.ipynb",
      "provenance": [],
      "collapsed_sections": [],
      "authorship_tag": "ABX9TyNBWZwY0KayWm7BE8oTt1ZV",
      "include_colab_link": true
    },
    "kernelspec": {
      "name": "python3",
      "display_name": "Python 3"
    },
    "language_info": {
      "name": "python"
    }
  },
  "cells": [
    {
      "cell_type": "markdown",
      "metadata": {
        "id": "view-in-github",
        "colab_type": "text"
      },
      "source": [
        "<a href=\"https://colab.research.google.com/github/kimsunhyung/python_lectures/blob/main/0627python_%EC%9E%85%EB%AC%B82.ipynb\" target=\"_parent\"><img src=\"https://colab.research.google.com/assets/colab-badge.svg\" alt=\"Open In Colab\"/></a>"
      ]
    },
    {
      "cell_type": "markdown",
      "source": [
        ""
      ],
      "metadata": {
        "id": "UPy7JSBPzeI7"
      }
    },
    {
      "cell_type": "markdown",
      "source": [
        "---\n",
        "title: \"0627_python_입문2\"\n",
        "date: '2022-06-27'\n",
        "---"
      ],
      "metadata": {
        "id": "XqkUSsMqzisj"
      }
    },
    {
      "cell_type": "code",
      "source": [
        "print(\"Hello WORLD\")"
      ],
      "metadata": {
        "colab": {
          "base_uri": "https://localhost:8080/"
        },
        "id": "PEIz2yoRz7ya",
        "outputId": "b162fa9a-0b47-4b22-fbff-79cef3bfa7d0"
      },
      "execution_count": null,
      "outputs": [
        {
          "output_type": "stream",
          "name": "stdout",
          "text": [
            "Hello WORLD\n"
          ]
        }
      ]
    },
    {
      "cell_type": "code",
      "source": [
        ""
      ],
      "metadata": {
        "id": "g31rIa6qz61C"
      },
      "execution_count": null,
      "outputs": []
    },
    {
      "cell_type": "markdown",
      "source": [
        "## 주석처리\n",
        "- 1줄 주석, 여러줄 주석 처리\n",
        "\n",
        "- 프로젝트 시\n",
        "  + 전체 공정 100\n",
        "  + 코드/ 코드 문서화/ 한글작업 문서화"
      ],
      "metadata": {
        "id": "mQavkpE70Elq"
      }
    },
    {
      "cell_type": "code",
      "source": [
        "# print() 함수사용\n",
        "print(\"1줄 주석\")\n",
        "\n",
        "\"\"\"\n",
        "여러 줄 주석\n",
        "쌍 따움표를 앞과 뒤로\n",
        "3개 입력\n",
        "\"\"\"\n",
        "print(\"여러줄 주석\")"
      ],
      "metadata": {
        "colab": {
          "base_uri": "https://localhost:8080/"
        },
        "id": "jN23hCLu0JaS",
        "outputId": "a5ae0b2d-b2cc-42d6-fa40-223a4edd41e4"
      },
      "execution_count": null,
      "outputs": [
        {
          "output_type": "stream",
          "name": "stdout",
          "text": [
            "1줄 주석\n",
            "여러줄 주석\n"
          ]
        }
      ]
    },
    {
      "cell_type": "markdown",
      "source": [
        "## 변수 (Scalar)\n",
        "- 자료형\n",
        "- Scalar 형 Non-Scalar 형\n",
        "\n",
        "### 수치형 자료\n",
        "- int, float"
      ],
      "metadata": {
        "id": "w5GzLTGM5TXM"
      }
    },
    {
      "cell_type": "code",
      "source": [
        "num_int = 1\n",
        "print(num_int)\n",
        "print(type(num_int))"
      ],
      "metadata": {
        "colab": {
          "base_uri": "https://localhost:8080/"
        },
        "id": "Ez3ntc8h5xAc",
        "outputId": "ec6c63e2-1993-4028-8773-3618e7d43eab"
      },
      "execution_count": null,
      "outputs": [
        {
          "output_type": "stream",
          "name": "stdout",
          "text": [
            "1\n",
            "<class 'int'>\n"
          ]
        }
      ]
    },
    {
      "cell_type": "code",
      "source": [
        "num_float = 0.1\n",
        "print(num_float)\n",
        "print(type(num_float))"
      ],
      "metadata": {
        "colab": {
          "base_uri": "https://localhost:8080/"
        },
        "id": "QJaYpIxT6LYV",
        "outputId": "da1a2f7f-1819-452f-fd51-8057eef328c8"
      },
      "execution_count": null,
      "outputs": [
        {
          "output_type": "stream",
          "name": "stdout",
          "text": [
            "0.1\n",
            "<class 'float'>\n"
          ]
        }
      ]
    },
    {
      "cell_type": "markdown",
      "source": [
        "### Bool 형\n",
        "- pyhyon : True, Flase\n",
        "- R : TRUE, FLASE"
      ],
      "metadata": {
        "id": "tFQ_6Kc26WP9"
      }
    },
    {
      "cell_type": "code",
      "source": [
        "bool_true = True\n",
        "print(bool_true)\n",
        "print(type(bool_true))"
      ],
      "metadata": {
        "colab": {
          "base_uri": "https://localhost:8080/"
        },
        "id": "hfCqgs0S6nK8",
        "outputId": "937ceaf6-2fbb-4a09-910f-abdad5993123"
      },
      "execution_count": null,
      "outputs": [
        {
          "output_type": "stream",
          "name": "stdout",
          "text": [
            "True\n",
            "<class 'bool'>\n"
          ]
        }
      ]
    },
    {
      "cell_type": "markdown",
      "source": [
        "## None 자료형\n",
        "- Null값, 값이 정해지지 않은 자료형"
      ],
      "metadata": {
        "id": "Y5O98ja064bd"
      }
    },
    {
      "cell_type": "code",
      "source": [
        "none_x=None\n",
        "print(none_x)\n",
        "print(type(none_x))"
      ],
      "metadata": {
        "colab": {
          "base_uri": "https://localhost:8080/"
        },
        "id": "W5AV80566_G0",
        "outputId": "d0442488-79e8-4b8f-f78e-b427c21dcd5e"
      },
      "execution_count": null,
      "outputs": [
        {
          "output_type": "stream",
          "name": "stdout",
          "text": [
            "None\n",
            "<class 'NoneType'>\n"
          ]
        }
      ]
    },
    {
      "cell_type": "markdown",
      "source": [
        "## 사칙연산\n",
        "- 정수형 사칙연산, 실수형 사칙연산\n",
        "- 결과값의 자료형\n",
        "- 정수, 실수형을 잘 구분해내야 함.\n"
      ],
      "metadata": {
        "id": "-p0bH4By7bBl"
      }
    },
    {
      "cell_type": "markdown",
      "source": [
        "## 정수형 사칙연산\n",
        "+,-,*,/,"
      ],
      "metadata": {
        "id": "kEnRpMOB7n8U"
      }
    },
    {
      "cell_type": "code",
      "source": [
        "a=3\n",
        "b=2\n",
        "print('a+b=',a+b)\n",
        "print('a-b=',a-b)\n",
        "print('a*b=',a*b)\n",
        "print('a/b=',a/b)"
      ],
      "metadata": {
        "colab": {
          "base_uri": "https://localhost:8080/"
        },
        "id": "SJj0me_U7mbd",
        "outputId": "87464181-b10d-427d-fe70-c9ffedf80d77"
      },
      "execution_count": null,
      "outputs": [
        {
          "output_type": "stream",
          "name": "stdout",
          "text": [
            "a+b= 5\n",
            "a-b= 1\n",
            "a*b= 6\n",
            "a/b= 1.5\n"
          ]
        }
      ]
    },
    {
      "cell_type": "markdown",
      "source": [
        "## 실수형 사칙연산"
      ],
      "metadata": {
        "id": "Y9DdnnTS75K3"
      }
    },
    {
      "cell_type": "code",
      "source": [
        "a = 1.5\n",
        "b = 2.5\n",
        "print('a+b=', a+b)\n",
        "print('a-b=',a-b)\n",
        "print('a*b=',a*b)\n",
        "print('a/b=',a/b)"
      ],
      "metadata": {
        "colab": {
          "base_uri": "https://localhost:8080/"
        },
        "id": "NaD0Y7Bf78B-",
        "outputId": "37949c88-39b3-4475-97df-0ac10729f14c"
      },
      "execution_count": null,
      "outputs": [
        {
          "output_type": "stream",
          "name": "stdout",
          "text": [
            "a+b= 4.0\n",
            "a-b= -1.0\n",
            "a*b= 3.75\n",
            "a/b= 0.6\n"
          ]
        }
      ]
    },
    {
      "cell_type": "markdown",
      "source": [
        "## 논리형 연산자\n",
        "- Bool 형\n",
        "- True와 False 값으로 정의\n",
        "- 조건식\n",
        "  + 교집합 (=and), 합집합 (=or)"
      ],
      "metadata": {
        "id": "gVsFi-Of9a3m"
      }
    },
    {
      "cell_type": "code",
      "source": [
        "print(True and True)\n",
        "print(True and False)\n",
        "print(False and True)\n",
        "print(False and False)"
      ],
      "metadata": {
        "colab": {
          "base_uri": "https://localhost:8080/"
        },
        "id": "i-A6OyRB9vkn",
        "outputId": "10485657-105f-4d13-e6df-69e1a8afec73"
      },
      "execution_count": null,
      "outputs": [
        {
          "output_type": "stream",
          "name": "stdout",
          "text": [
            "True\n",
            "False\n",
            "False\n",
            "False\n"
          ]
        }
      ]
    },
    {
      "cell_type": "markdown",
      "source": [
        "## 비교 연산자\n",
        " - 비교 연산자는 부등호를 의미한다"
      ],
      "metadata": {
        "id": "M_G6LKgH-ZO4"
      }
    },
    {
      "cell_type": "code",
      "source": [
        "print(4>3) #참 = True\n",
        "print(4<3) # 거직 = False\n",
        "print(4>3 or 4<3) # "
      ],
      "metadata": {
        "colab": {
          "base_uri": "https://localhost:8080/"
        },
        "id": "NxJOKAfr-hfu",
        "outputId": "f29ba16e-f39f-468c-b12d-02f772bb94fc"
      },
      "execution_count": null,
      "outputs": [
        {
          "output_type": "stream",
          "name": "stdout",
          "text": [
            "True\n",
            "False\n",
            "True\n"
          ]
        }
      ]
    },
    {
      "cell_type": "markdown",
      "source": [
        "## 논리형&비교 연산자 응용\n",
        " - input()\n",
        " - 형변환\n",
        " - 데이터 타입을 바꾸는 것"
      ],
      "metadata": {
        "id": "TvpBM7hE-5X2"
      }
    },
    {
      "cell_type": "code",
      "source": [
        "var = int(input(\"숫자를 입력하세요..!\"))\n",
        "print(var)\n",
        "print(type(var))"
      ],
      "metadata": {
        "colab": {
          "base_uri": "https://localhost:8080/"
        },
        "id": "_MQUIMP5_DYG",
        "outputId": "7f7f837c-bf56-41cc-d023-b4bfc6bffa72"
      },
      "execution_count": null,
      "outputs": [
        {
          "output_type": "stream",
          "name": "stdout",
          "text": [
            "숫자를 입력하세요..!1\n",
            "1\n",
            "<class 'int'>\n"
          ]
        }
      ]
    },
    {
      "cell_type": "code",
      "source": [
        "num1 = int(input(\"첫번째 숫자를 입력하세요..!\"))\n",
        "num2 = int(input(\"두번째 숫자를 입력하세요..!\"))\n",
        "num3 = int(input(\"세번째 숫자를 입력하세요..!\"))\n",
        "num4 = int(input(\"네번째 숫자를 입력하세요..!\"))\n",
        "\n",
        "var1 = num1 >= num2 \n",
        "var2 = num3 < num4 \n",
        "\n",
        "print(var1 and var2) "
      ],
      "metadata": {
        "colab": {
          "base_uri": "https://localhost:8080/"
        },
        "id": "oYuhYvIU_xyo",
        "outputId": "fd234e76-822c-4dab-b1d8-977463b96b87"
      },
      "execution_count": null,
      "outputs": [
        {
          "output_type": "stream",
          "name": "stdout",
          "text": [
            "첫번째 숫자를 입력하세요..!10\n",
            "두번째 숫자를 입력하세요..!20\n",
            "세번째 숫자를 입력하세요..!30\n",
            "네번째 숫자를 입력하세요..!40\n",
            "False\n"
          ]
        }
      ]
    },
    {
      "cell_type": "markdown",
      "source": [
        "## String\n",
        " - Non Scalar"
      ],
      "metadata": {
        "id": "YPJTduqGBy1X"
      }
    },
    {
      "cell_type": "code",
      "source": [
        "print('hello world')\n",
        "print(\"hello world\")\n",
        "\n",
        "print(\"'hello world'\")\n",
        "print('\"hello world\"')"
      ],
      "metadata": {
        "colab": {
          "base_uri": "https://localhost:8080/"
        },
        "id": "V6JdwSm-B78Q",
        "outputId": "1734b4d0-f157-4525-c3e4-36aaa766c0c3"
      },
      "execution_count": null,
      "outputs": [
        {
          "output_type": "stream",
          "name": "stdout",
          "text": [
            "hello world\n",
            "hello world\n",
            "'hello world'\n",
            "\"hello world\"\n"
          ]
        }
      ]
    },
    {
      "cell_type": "markdown",
      "source": [
        "## String Operators\n",
        "  - 문자열 연산자\n",
        "  - +,* 가능"
      ],
      "metadata": {
        "id": "WFE4580tCeuQ"
      }
    },
    {
      "cell_type": "code",
      "source": [
        "str1 = \"hello\"\n",
        "str2 = \"world\"\n",
        "print(str1 + str2)"
      ],
      "metadata": {
        "colab": {
          "base_uri": "https://localhost:8080/"
        },
        "id": "eAxpDNsnCn-3",
        "outputId": "677385cc-eb38-40b8-f311-c57698f618e0"
      },
      "execution_count": null,
      "outputs": [
        {
          "output_type": "stream",
          "name": "stdout",
          "text": [
            "helloworld\n"
          ]
        }
      ]
    },
    {
      "cell_type": "code",
      "source": [
        "greet = str1 + str2\n",
        "print(greet*2)"
      ],
      "metadata": {
        "colab": {
          "base_uri": "https://localhost:8080/"
        },
        "id": "A4jF99SxC5LK",
        "outputId": "b1d39511-5f4c-44c6-e040-f093959ade18"
      },
      "execution_count": null,
      "outputs": [
        {
          "output_type": "stream",
          "name": "stdout",
          "text": [
            "helloworldhelloworld\n"
          ]
        }
      ]
    },
    {
      "cell_type": "markdown",
      "source": [
        "## 문자열 인덱싱"
      ],
      "metadata": {
        "id": "2KYMzVUkhPQL"
      }
    },
    {
      "cell_type": "code",
      "source": [
        "greeting = \"hello kaggle\"\n",
        "i = 7\n",
        "print(greeting[7])"
      ],
      "metadata": {
        "colab": {
          "base_uri": "https://localhost:8080/"
        },
        "id": "6-y1IVtEiAbL",
        "outputId": "2a462e3b-e4ba-400f-cdac-3853c5ab5733"
      },
      "execution_count": null,
      "outputs": [
        {
          "output_type": "stream",
          "name": "stdout",
          "text": [
            "a\n"
          ]
        }
      ]
    },
    {
      "cell_type": "code",
      "source": [
        "greeting = \"hello kaggle\"\n",
        "i = int(input(\"숫자를 입력하세요.\"))\n",
        "print(greeting[i])"
      ],
      "metadata": {
        "colab": {
          "base_uri": "https://localhost:8080/"
        },
        "id": "NtFYTBLXiipb",
        "outputId": "e0347600-6ec0-4809-a7dd-144b352eb4ab"
      },
      "execution_count": null,
      "outputs": [
        {
          "output_type": "stream",
          "name": "stdout",
          "text": [
            "숫자를 입력하세요.1\n",
            "e\n"
          ]
        }
      ]
    },
    {
      "cell_type": "markdown",
      "source": [
        "### 슬라이싱"
      ],
      "metadata": {
        "id": "B91gm9TAi64j"
      }
    },
    {
      "cell_type": "code",
      "source": [
        "greeting = \"hello kaggle\"\n",
        "#print(greeting[시작인덱스:끝인덱스-1])\n",
        "print(greeting[0:2])"
      ],
      "metadata": {
        "colab": {
          "base_uri": "https://localhost:8080/"
        },
        "id": "sZnHNBZei9tz",
        "outputId": "a3935cd8-6c7a-4d9f-d588-17d622a012d0"
      },
      "execution_count": null,
      "outputs": [
        {
          "output_type": "stream",
          "name": "stdout",
          "text": [
            "he\n"
          ]
        }
      ]
    },
    {
      "cell_type": "code",
      "source": [
        "print(greeting[:8])\n",
        "print(greeting[6:])\n",
        "print(greeting[0:10:4])# (시작하는 인덱스 : 지정되는 범위의 인덱스 : 건너뛰는 인덱스)"
      ],
      "metadata": {
        "colab": {
          "base_uri": "https://localhost:8080/"
        },
        "id": "6uo6AlrtjqH9",
        "outputId": "d7b2fb4f-90b3-4732-f1a7-f4065295d293"
      },
      "execution_count": null,
      "outputs": [
        {
          "output_type": "stream",
          "name": "stdout",
          "text": [
            "hello ka\n",
            "kaggle\n",
            "hog\n"
          ]
        }
      ]
    },
    {
      "cell_type": "markdown",
      "source": [
        "- 문자열 관련 메서드 \n",
        "  - split()\n",
        "  - sort()\n",
        "  - etc"
      ],
      "metadata": {
        "id": "bRQFQjUtl9J9"
      }
    },
    {
      "cell_type": "markdown",
      "source": [
        "## 리스트\n",
        " - []로 표시\n",
        "  - [item1, item2, item3]"
      ],
      "metadata": {
        "id": "a6lYemNlmPOF"
      }
    },
    {
      "cell_type": "code",
      "source": [
        "a = [] # 빈 리스트\n",
        "a_func = list()\n",
        "b= [1]\n",
        "c = \"apple\"\n",
        "d = [1,2, ['apple'],'apple']\n",
        "print(d)"
      ],
      "metadata": {
        "colab": {
          "base_uri": "https://localhost:8080/"
        },
        "id": "NMwwembsmkNF",
        "outputId": "a94e32f2-1f11-4d9f-eb6c-d13895d9bc31"
      },
      "execution_count": null,
      "outputs": [
        {
          "output_type": "stream",
          "name": "stdout",
          "text": [
            "[1, 2, ['apple', 'apple']]\n"
          ]
        }
      ]
    },
    {
      "cell_type": "markdown",
      "source": [
        "### 리스트 값 수정하기\n",
        " - 리스트 값 수정"
      ],
      "metadata": {
        "id": "PLe6ZN23nNn1"
      }
    },
    {
      "cell_type": "code",
      "source": [
        "a= [0,1,2]\n",
        "a[0]=\"아무값\"\n",
        "print(a)"
      ],
      "metadata": {
        "colab": {
          "base_uri": "https://localhost:8080/"
        },
        "id": "SbvnLknFnTNR",
        "outputId": "46ba29c8-c64d-4694-a92f-ea9d749bc66c"
      },
      "execution_count": null,
      "outputs": [
        {
          "output_type": "stream",
          "name": "stdout",
          "text": [
            "['아무값', 1, 2]\n"
          ]
        }
      ]
    },
    {
      "cell_type": "markdown",
      "source": [
        "### 리스트 값 추가\n",
        "   - 메서드 사용 a.append, a.extend"
      ],
      "metadata": {
        "id": "6yf3HJ9inm95"
      }
    },
    {
      "cell_type": "code",
      "source": [
        "a= [100, 200, 300]\n",
        "a.append(400)\n",
        "\n",
        "print(a)\n",
        "\n",
        "a.append([500,600])\n",
        "print(a)\n"
      ],
      "metadata": {
        "colab": {
          "base_uri": "https://localhost:8080/"
        },
        "id": "OZSZBjsknsdT",
        "outputId": "7d7ae489-c88c-4e6c-ea02-5f13304ccee7"
      },
      "execution_count": null,
      "outputs": [
        {
          "output_type": "stream",
          "name": "stdout",
          "text": [
            "[100, 200, 300, 400]\n",
            "[100, 200, 300, 400, [500, 600]]\n"
          ]
        }
      ]
    },
    {
      "cell_type": "code",
      "source": [
        "a= [100, 200, 300]\n",
        "a.append(400)\n",
        "\n",
        "print(a)\n",
        "\n",
        "a.extend([500,600])\n",
        "print(a)"
      ],
      "metadata": {
        "colab": {
          "base_uri": "https://localhost:8080/"
        },
        "id": "z4DDYodiojcO",
        "outputId": "d81780ed-1c85-4afb-df4a-d01579424a8f"
      },
      "execution_count": null,
      "outputs": [
        {
          "output_type": "stream",
          "name": "stdout",
          "text": [
            "[100, 200, 300, 400]\n",
            "[100, 200, 300, 400, 400, 500]\n"
          ]
        }
      ]
    },
    {
      "cell_type": "markdown",
      "source": [
        "- insert (인덱스 위치, 값)"
      ],
      "metadata": {
        "id": "asJrv3cNpDNv"
      }
    },
    {
      "cell_type": "code",
      "source": [
        "a = [100,200,300]\n",
        "a.insert(1,1000)\n",
        "print(a)"
      ],
      "metadata": {
        "colab": {
          "base_uri": "https://localhost:8080/"
        },
        "id": "zQCR0TJlpL8F",
        "outputId": "f0c54d7a-6ab3-43cb-8831-5184790c9311"
      },
      "execution_count": null,
      "outputs": [
        {
          "output_type": "stream",
          "name": "stdout",
          "text": [
            "[100, 1000, 200, 300]\n"
          ]
        }
      ]
    },
    {
      "cell_type": "markdown",
      "source": [
        "### 리스트 값 삭제하기\n",
        "  - remove(), del"
      ],
      "metadata": {
        "id": "bpl1vjuwpdVT"
      }
    },
    {
      "cell_type": "code",
      "source": [
        "a = [1,2,1,2]\n",
        "a.remove(1)\n",
        "\n",
        "print(a)"
      ],
      "metadata": {
        "colab": {
          "base_uri": "https://localhost:8080/"
        },
        "id": "KykJnIGRpiqW",
        "outputId": "ce846854-2589-4b01-91db-9b3a3c34b010"
      },
      "execution_count": null,
      "outputs": [
        {
          "output_type": "stream",
          "name": "stdout",
          "text": [
            "[2, 1, 2]\n"
          ]
        }
      ]
    },
    {
      "cell_type": "code",
      "source": [
        "a=[0,0,1,2,3,4]\n",
        "del a[1]\n",
        "print(a)\n",
        "\n",
        "del a[0:2]\n",
        "print(a)"
      ],
      "metadata": {
        "colab": {
          "base_uri": "https://localhost:8080/"
        },
        "id": "nn6EHJcjqFaO",
        "outputId": "99dfcf6c-e228-42b3-d7fe-59b6ff06d8c9"
      },
      "execution_count": null,
      "outputs": [
        {
          "output_type": "stream",
          "name": "stdout",
          "text": [
            "[0, 1, 2, 3, 4]\n",
            "[2, 3, 4]\n"
          ]
        }
      ]
    },
    {
      "cell_type": "markdown",
      "source": [
        "- pop()\n",
        "  "
      ],
      "metadata": {
        "id": "jHE7us-CuWdn"
      }
    },
    {
      "cell_type": "code",
      "source": [
        "a= [1,2,3,4,5]\n",
        "rem = a.pop(1)\n",
        "print(a)\n",
        "print(rem)\n",
        "x= a.pop()\n",
        "print(a)\n",
        "print(x)"
      ],
      "metadata": {
        "colab": {
          "base_uri": "https://localhost:8080/"
        },
        "id": "u85Ta3Sfubx5",
        "outputId": "3bde261b-e006-4d58-9b50-82a1fbb4063d"
      },
      "execution_count": null,
      "outputs": [
        {
          "output_type": "stream",
          "name": "stdout",
          "text": [
            "[1, 3, 4, 5]\n",
            "2\n",
            "[1, 3, 4]\n",
            "5\n"
          ]
        }
      ]
    },
    {
      "cell_type": "markdown",
      "source": [
        "- clear() : 리스트 내 모든 값 삭제\n",
        "- index(\"값) : 값의 위치를 불러옴"
      ],
      "metadata": {
        "id": "3WyyTXyGvimv"
      }
    },
    {
      "cell_type": "code",
      "source": [
        "a= [1,4,5,2,3]\n",
        "b=[\"철수\", \"영희\", \"길동\"]\n",
        "print(a.index(4))\n",
        "print(b.index(\"길동\"))"
      ],
      "metadata": {
        "colab": {
          "base_uri": "https://localhost:8080/"
        },
        "id": "MlIWQvkzvveK",
        "outputId": "7256ab43-1abb-4a07-ef86-59ae7a1d6ab8"
      },
      "execution_count": null,
      "outputs": [
        {
          "output_type": "stream",
          "name": "stdout",
          "text": [
            "1\n",
            "2\n"
          ]
        }
      ]
    },
    {
      "cell_type": "markdown",
      "source": [
        "- sort: 리스트 정렬"
      ],
      "metadata": {
        "id": "yg9xvAMcwKSQ"
      }
    },
    {
      "cell_type": "code",
      "source": [
        "a=[1,4,5,2,3]\n",
        "a.sort()\n",
        "print(a)\n",
        "\n",
        "a=[1,4,5,2,3]\n",
        "a.sort(reverse=True)\n",
        "print(a)"
      ],
      "metadata": {
        "colab": {
          "base_uri": "https://localhost:8080/"
        },
        "id": "1q3BOrhpwOTh",
        "outputId": "ace34305-319e-498f-d9e5-ae3394c11be7"
      },
      "execution_count": null,
      "outputs": [
        {
          "output_type": "stream",
          "name": "stdout",
          "text": [
            "[1, 2, 3, 4, 5]\n",
            "[5, 4, 3, 2, 1]\n"
          ]
        }
      ]
    },
    {
      "cell_type": "markdown",
      "source": [
        "## 튜플\n",
        "  - 면접질문 : 리스트와 튜플의 차이가 무엇인가?\n",
        "  - 리스트 : []를 보지 못함\n",
        "     + 수정, 삭제, 추가\n",
        "  - 튜플 : ()가 있어야 함\n",
        "     + 수정, 삭제, 추가 불가"
      ],
      "metadata": {
        "id": "82FTojHSx8qE"
      }
    },
    {
      "cell_type": "code",
      "source": [
        "tuple1=(0)\n",
        "tuple2 = (0,)\n",
        "tuple3 = 0,1,2,\n",
        "\n",
        "print(type(tuple1))\n",
        "print(type(tuple2))\n",
        "print(type(tuple3))\n",
        "\n",
        "print(tuple1)\n",
        "print(tuple2)\n",
        "print(tuple3)"
      ],
      "metadata": {
        "colab": {
          "base_uri": "https://localhost:8080/"
        },
        "id": "bBg6x6WWy23i",
        "outputId": "6b02cc7e-cc0a-450e-ee1a-47f160b24557"
      },
      "execution_count": null,
      "outputs": [
        {
          "output_type": "stream",
          "name": "stdout",
          "text": [
            "<class 'int'>\n",
            "<class 'tuple'>\n",
            "<class 'tuple'>\n",
            "0\n",
            "(0,)\n",
            "(0, 1, 2)\n"
          ]
        }
      ]
    },
    {
      "cell_type": "code",
      "source": [
        "a= [0,1,2,3,'a']\n",
        "del a[4]\n",
        "print(a)\n",
        "\n",
        "a=[0,1,2,3,'a']\n",
        "a[4] = 4\n",
        "print(a)"
      ],
      "metadata": {
        "colab": {
          "base_uri": "https://localhost:8080/"
        },
        "id": "hA1W_b2Bzg75",
        "outputId": "9c12fe23-002a-464d-949f-b3cc27e01e0b"
      },
      "execution_count": null,
      "outputs": [
        {
          "output_type": "stream",
          "name": "stdout",
          "text": [
            "[0, 1, 2, 3]\n",
            "[0, 1, 2, 3, 4]\n"
          ]
        }
      ]
    },
    {
      "cell_type": "markdown",
      "source": [
        "## 튜플(=리스트) 연산자\n",
        "  - 문자열 연산자\n",
        "  - +,* "
      ],
      "metadata": {
        "id": "E-aMxdXQ0wW3"
      }
    },
    {
      "cell_type": "code",
      "source": [
        "t1 = (1,2,3)\n",
        "t2 = (3,4,5)\n",
        "print(t1+t2)\n",
        "\n",
        "t1 = [1,2,3]\n",
        "t2 = [3,4,5]\n",
        "print(t1+t2)"
      ],
      "metadata": {
        "colab": {
          "base_uri": "https://localhost:8080/"
        },
        "id": "OHaF5iap1NWr",
        "outputId": "f812ac09-4f01-4abb-d343-6c5b5c7d6b28"
      },
      "execution_count": null,
      "outputs": [
        {
          "output_type": "stream",
          "name": "stdout",
          "text": [
            "(1, 2, 3, 3, 4, 5)\n",
            "[1, 2, 3, 3, 4, 5]\n"
          ]
        }
      ]
    },
    {
      "cell_type": "markdown",
      "source": [
        "## 딕셔너리\n",
        " - key(키)와 value(값)으로 구성됨\n",
        " - 슬라이싱! = (값의 순서가 존재해야함)\n",
        " - 순서라는 개념자체가 존재 하지 않음 "
      ],
      "metadata": {
        "id": "RlWxn1bu2BBC"
      }
    },
    {
      "cell_type": "code",
      "source": [
        "temp_dict = {\n",
        " 'teacher':'evan',\n",
        " 'class': 15,\n",
        " 'student':['s1','s2','s3']\n",
        "}\n",
        "\n",
        "print(temp_dict[\"teacher\"])\n",
        "print(temp_dict['class'])\n",
        "print(temp_dict['student'])"
      ],
      "metadata": {
        "colab": {
          "base_uri": "https://localhost:8080/"
        },
        "id": "OV5bAmjL2UKZ",
        "outputId": "43913213-538b-42ac-b910-0e11ab001c5b"
      },
      "execution_count": null,
      "outputs": [
        {
          "output_type": "stream",
          "name": "stdout",
          "text": [
            "evan\n",
            "15\n",
            "['s1', 's2', 's3']\n"
          ]
        }
      ]
    },
    {
      "cell_type": "markdown",
      "source": [
        "- keys 값만 출"
      ],
      "metadata": {
        "id": "fpNjZzgB7zj0"
      }
    },
    {
      "cell_type": "code",
      "source": [
        "temp_dict.keys()\n",
        "list(temp_dict.keys())"
      ],
      "metadata": {
        "colab": {
          "base_uri": "https://localhost:8080/"
        },
        "id": "A5kose-s74ov",
        "outputId": "f8d2ff7f-5211-428a-8b82-fd19e6c05da6"
      },
      "execution_count": null,
      "outputs": [
        {
          "output_type": "execute_result",
          "data": {
            "text/plain": [
              "['teacher', 'class', 'student']"
            ]
          },
          "metadata": {},
          "execution_count": 186
        }
      ]
    },
    {
      "cell_type": "markdown",
      "source": [
        "value 값만 출"
      ],
      "metadata": {
        "id": "dYSwUkt08X4g"
      }
    },
    {
      "cell_type": "code",
      "source": [
        "temp_dict.values()\n",
        "list(temp_dict.values())"
      ],
      "metadata": {
        "colab": {
          "base_uri": "https://localhost:8080/"
        },
        "id": "sLXT7H-q8bu4",
        "outputId": "19adf22d-a471-427f-929c-c30544c0813a"
      },
      "execution_count": null,
      "outputs": [
        {
          "output_type": "execute_result",
          "data": {
            "text/plain": [
              "['evan', 15, ['s1', 's2', 's3']]"
            ]
          },
          "metadata": {},
          "execution_count": 192
        }
      ]
    },
    {
      "cell_type": "markdown",
      "source": [
        "-items()는 key,value의 쌍으로, list와 tuple 형태로 변환됨"
      ],
      "metadata": {
        "id": "Qn4pDyLM8s5c"
      }
    },
    {
      "cell_type": "code",
      "source": [
        "temp_dict.items()\n",
        "list(temp_dict.items())"
      ],
      "metadata": {
        "colab": {
          "base_uri": "https://localhost:8080/"
        },
        "id": "I5N6-8vf8ur8",
        "outputId": "e9b4737c-b642-46b8-da87-fb598e0c35e2"
      },
      "execution_count": null,
      "outputs": [
        {
          "output_type": "execute_result",
          "data": {
            "text/plain": [
              "[('teacher', 'evan'), ('class', 15), ('student', ['s1', 's2', 's3'])]"
            ]
          },
          "metadata": {},
          "execution_count": 194
        }
      ]
    },
    {
      "cell_type": "markdown",
      "source": [
        "### 조건문"
      ],
      "metadata": {
        "id": "R1ubEXzH9L6_"
      }
    },
    {
      "cell_type": "code",
      "source": [
        "a= int(input(\"숫자를 입력하세요.\"))\n",
        "if a>5:\n",
        "  print(\"a는 5보다 크다\")\n",
        "elif a>0:\n",
        "  print(\"a는 0보다 크다\")\n",
        "elif a> -5:\n",
        "  print(\"a는 -5보다 크다\")\n",
        "else:\n",
        "  print(\"a는 매우작다\")"
      ],
      "metadata": {
        "colab": {
          "base_uri": "https://localhost:8080/"
        },
        "id": "-Ymn4MB-9OBc",
        "outputId": "3fc21193-8cf7-4a7c-d349-c7733ef736cb"
      },
      "execution_count": null,
      "outputs": [
        {
          "output_type": "stream",
          "name": "stdout",
          "text": [
            "숫자를 입력하세요.1\n",
            "a는 0보다 크다\n"
          ]
        }
      ]
    },
    {
      "cell_type": "markdown",
      "source": [
        "### 반복문"
      ],
      "metadata": {
        "id": "Ngyi8p6N_S2D"
      }
    },
    {
      "cell_type": "code",
      "source": [
        "for i in range(10):# i는 변수 아무거로 작성해도됨\n",
        " # print(i+1) \n",
        " print(\"Hello World\")"
      ],
      "metadata": {
        "colab": {
          "base_uri": "https://localhost:8080/"
        },
        "id": "xmONEqvq_XBl",
        "outputId": "0e0e4b19-266b-4b98-929c-d92c2b0a18ae"
      },
      "execution_count": null,
      "outputs": [
        {
          "output_type": "stream",
          "name": "stdout",
          "text": [
            "Hello World\n",
            "Hello World\n",
            "Hello World\n",
            "Hello World\n",
            "Hello World\n",
            "Hello World\n",
            "Hello World\n",
            "Hello World\n",
            "Hello World\n",
            "Hello World\n"
          ]
        }
      ]
    },
    {
      "cell_type": "markdown",
      "source": [
        "- for loop if 조건문 사용\n",
        "- 문자열, 리스트 등 -> 시퀀스 데이터 (반복문이 돌아가지 않을 시 시퀀스 데이터가 아님)"
      ],
      "metadata": {
        "id": "fb9BEZ2xCyjg"
      }
    },
    {
      "cell_type": "code",
      "source": [
        "a= \"kaggle\"\n",
        "# g가 시작하면 반복문을 멈추세요 \n",
        "for x in a:\n",
        "  print(x)\n",
        "  if x == 'g':\n",
        "   break\n",
        "  # print(x)"
      ],
      "metadata": {
        "colab": {
          "base_uri": "https://localhost:8080/"
        },
        "id": "hBtcjYCCC54p",
        "outputId": "13a4cd1b-99e7-4a06-c1b4-cd91231c90dc"
      },
      "execution_count": null,
      "outputs": [
        {
          "output_type": "stream",
          "name": "stdout",
          "text": [
            "k\n",
            "a\n",
            "g\n"
          ]
        }
      ]
    },
    {
      "cell_type": "markdown",
      "source": [
        "- enumerate"
      ],
      "metadata": {
        "id": "us3hoX7PEcot"
      }
    },
    {
      "cell_type": "code",
      "source": [
        "alphabets = ['A', 'B', 'C']\n",
        "for index, value in enumerate(alphabets):\n",
        "  print(index, value)"
      ],
      "metadata": {
        "colab": {
          "base_uri": "https://localhost:8080/"
        },
        "id": "kLL6ryv7Egpl",
        "outputId": "4ebb6f5f-bd83-4e42-979a-e460a338b480"
      },
      "execution_count": null,
      "outputs": [
        {
          "output_type": "stream",
          "name": "stdout",
          "text": [
            "0 A\n",
            "1 B\n",
            "2 C\n"
          ]
        }
      ]
    },
    {
      "cell_type": "markdown",
      "source": [
        "## 리스트 컴프리헨션\n",
        " - list comprehension"
      ],
      "metadata": {
        "id": "sTIKYoP3FK9g"
      }
    },
    {
      "cell_type": "code",
      "source": [
        "\"a\" in \"apple\""
      ],
      "metadata": {
        "colab": {
          "base_uri": "https://localhost:8080/"
        },
        "id": "4T_aSefRGOOR",
        "outputId": "a7ddf911-6ba6-46d0-d128-ec67558f0ebb"
      },
      "execution_count": null,
      "outputs": [
        {
          "output_type": "execute_result",
          "data": {
            "text/plain": [
              "True"
            ]
          },
          "metadata": {},
          "execution_count": 243
        }
      ]
    },
    {
      "cell_type": "code",
      "source": [
        "fruits = ['apple', 'kiwi', 'mango']\n",
        "newlists = []\n",
        "\n",
        "# 알파벳 a가 있는 과일만 추출 후, 새로운 리스트에 담기\n",
        "for fruit in fruits:\n",
        "  #print(fruit)\n",
        "  if\"a\" in fruit:\n",
        "    newlists.append(fruit)\n",
        "print(newlists)\n",
        "\n",
        "# 리스트 컴프리헨션\n",
        "newlist = [fruit for fruit in fruits if 'a' in fruit]\n",
        "print(newlist)"
      ],
      "metadata": {
        "colab": {
          "base_uri": "https://localhost:8080/"
        },
        "id": "DPI8DsPDFhbf",
        "outputId": "ebb05cc2-a13f-441e-b1b8-127dc3c6cf0d"
      },
      "execution_count": null,
      "outputs": [
        {
          "output_type": "stream",
          "name": "stdout",
          "text": [
            "['apple', 'mango']\n",
            "['apple', 'mango']\n"
          ]
        }
      ]
    },
    {
      "cell_type": "markdown",
      "source": [
        "## 개별 타이핑 연습"
      ],
      "metadata": {
        "id": "6zxycsykFnwC"
      }
    },
    {
      "cell_type": "markdown",
      "source": [
        "### 정수형"
      ],
      "metadata": {
        "id": "vAKMDh5LGUEZ"
      }
    },
    {
      "cell_type": "code",
      "source": [
        "a = 123\n",
        "a = -178\n",
        "a= 0"
      ],
      "metadata": {
        "id": "cQxv78HQFsO4"
      },
      "execution_count": null,
      "outputs": []
    },
    {
      "cell_type": "markdown",
      "source": [
        "### 실수형"
      ],
      "metadata": {
        "id": "RR4P9ey8GYYp"
      }
    },
    {
      "cell_type": "code",
      "source": [
        "a = 1.2\n",
        "a= -3.45"
      ],
      "metadata": {
        "id": "B3FyAd9LF1HQ"
      },
      "execution_count": null,
      "outputs": []
    },
    {
      "cell_type": "code",
      "source": [
        "a=4.24E10\n",
        "a=4.24e-10"
      ],
      "metadata": {
        "id": "dgVvGJf0GF6h"
      },
      "execution_count": null,
      "outputs": []
    },
    {
      "cell_type": "markdown",
      "source": [
        "### 8진수, 16 진수"
      ],
      "metadata": {
        "id": "BuQyF39yGdA4"
      }
    },
    {
      "cell_type": "code",
      "source": [
        "a=0o177 # 8진수\n",
        "a=0x8ff\n",
        "b=0xABC # 16진수"
      ],
      "metadata": {
        "id": "rGWb08rtGfpo"
      },
      "execution_count": null,
      "outputs": []
    },
    {
      "cell_type": "markdown",
      "source": [
        "### 숫자형을 활용하기 위한 연산자\n",
        " - 사칙 연산 +, -, *, /"
      ],
      "metadata": {
        "id": "d6cy58hvHEjJ"
      }
    },
    {
      "cell_type": "code",
      "source": [
        "a=3\n",
        "b=4\n",
        "a+b\n",
        "a*b\n",
        "a/b"
      ],
      "metadata": {
        "colab": {
          "base_uri": "https://localhost:8080/"
        },
        "id": "tmICbbipHROh",
        "outputId": "18d1e0fe-bd45-4ae4-e5ae-bb478770114f"
      },
      "execution_count": null,
      "outputs": [
        {
          "output_type": "execute_result",
          "data": {
            "text/plain": [
              "0.75"
            ]
          },
          "metadata": {},
          "execution_count": 71
        }
      ]
    },
    {
      "cell_type": "markdown",
      "source": [
        "### x의 y제곱을 나타내는 ** 연산자"
      ],
      "metadata": {
        "id": "HehPSG_0HiGS"
      }
    },
    {
      "cell_type": "code",
      "source": [
        "a = 3\n",
        "b = 4\n",
        "a**b"
      ],
      "metadata": {
        "colab": {
          "base_uri": "https://localhost:8080/"
        },
        "id": "jnm-xOc6HptZ",
        "outputId": "90365814-080b-4405-f4c6-b1503818d8f4"
      },
      "execution_count": null,
      "outputs": [
        {
          "output_type": "execute_result",
          "data": {
            "text/plain": [
              "81"
            ]
          },
          "metadata": {},
          "execution_count": 72
        }
      ]
    },
    {
      "cell_type": "markdown",
      "source": [
        "나눗셈 후 나머지를 반환하는 % 연산자\n"
      ],
      "metadata": {
        "id": "UbGfOMa7HzV6"
      }
    },
    {
      "cell_type": "code",
      "source": [
        "7%3\n",
        "3%7 # 나눗셈 후 나머지 값"
      ],
      "metadata": {
        "colab": {
          "base_uri": "https://localhost:8080/"
        },
        "id": "63PZtY8XH-Jx",
        "outputId": "6656e4bb-2bef-42ee-aa67-360368483db8"
      },
      "execution_count": null,
      "outputs": [
        {
          "output_type": "execute_result",
          "data": {
            "text/plain": [
              "3"
            ]
          },
          "metadata": {},
          "execution_count": 73
        }
      ]
    },
    {
      "cell_type": "markdown",
      "source": [
        "나눗셈 후 몫을 반환하는 // 연산자"
      ],
      "metadata": {
        "id": "BnYpBfJgILBB"
      }
    },
    {
      "cell_type": "code",
      "source": [
        "7//4 # 나눗셈 후 정수 값 만 반환함"
      ],
      "metadata": {
        "colab": {
          "base_uri": "https://localhost:8080/"
        },
        "id": "OVaN657BIOh1",
        "outputId": "b32e9244-b75b-4df7-8bcf-6879d60bc170"
      },
      "execution_count": null,
      "outputs": [
        {
          "output_type": "execute_result",
          "data": {
            "text/plain": [
              "1"
            ]
          },
          "metadata": {},
          "execution_count": 74
        }
      ]
    },
    {
      "cell_type": "markdown",
      "source": [
        "## 문자열 자료형"
      ],
      "metadata": {
        "id": "5xTcjb87Ir-y"
      }
    },
    {
      "cell_type": "markdown",
      "source": [
        "### 큰따옴표, 작은따옴표 둘러싸기"
      ],
      "metadata": {
        "id": "X_cGT7k9IwOk"
      }
    },
    {
      "cell_type": "code",
      "source": [
        "\"Hello World\""
      ],
      "metadata": {
        "colab": {
          "base_uri": "https://localhost:8080/",
          "height": 35
        },
        "id": "k_N9rviRI2ct",
        "outputId": "442309b9-1abb-4a66-f745-59d61da0c5c7"
      },
      "execution_count": null,
      "outputs": [
        {
          "output_type": "execute_result",
          "data": {
            "text/plain": [
              "'Hello World'"
            ],
            "application/vnd.google.colaboratory.intrinsic+json": {
              "type": "string"
            }
          },
          "metadata": {},
          "execution_count": 75
        }
      ]
    },
    {
      "cell_type": "code",
      "source": [
        "'python is fun'"
      ],
      "metadata": {
        "colab": {
          "base_uri": "https://localhost:8080/",
          "height": 35
        },
        "id": "k-55yS8dI9bR",
        "outputId": "15ff0092-28bd-4c17-9ac8-182ba159b15e"
      },
      "execution_count": null,
      "outputs": [
        {
          "output_type": "execute_result",
          "data": {
            "text/plain": [
              "'python is fun'"
            ],
            "application/vnd.google.colaboratory.intrinsic+json": {
              "type": "string"
            }
          },
          "metadata": {},
          "execution_count": 76
        }
      ]
    },
    {
      "cell_type": "code",
      "source": [
        "\"\"\"Life is too short, You need python\"\"\""
      ],
      "metadata": {
        "colab": {
          "base_uri": "https://localhost:8080/",
          "height": 35
        },
        "id": "ucfd1dQeJE2R",
        "outputId": "db42fa99-b634-43c9-ae36-c6193b3b2984"
      },
      "execution_count": null,
      "outputs": [
        {
          "output_type": "execute_result",
          "data": {
            "text/plain": [
              "'Life is too short, You need python'"
            ],
            "application/vnd.google.colaboratory.intrinsic+json": {
              "type": "string"
            }
          },
          "metadata": {},
          "execution_count": 77
        }
      ]
    },
    {
      "cell_type": "code",
      "source": [
        "'''Life is too short, You need python'''"
      ],
      "metadata": {
        "colab": {
          "base_uri": "https://localhost:8080/",
          "height": 35
        },
        "id": "k9R-aUjbJNvV",
        "outputId": "2174659e-a228-44de-f55d-5ce322531301"
      },
      "execution_count": null,
      "outputs": [
        {
          "output_type": "execute_result",
          "data": {
            "text/plain": [
              "'Life is too short, You need python'"
            ],
            "application/vnd.google.colaboratory.intrinsic+json": {
              "type": "string"
            }
          },
          "metadata": {},
          "execution_count": 78
        }
      ]
    },
    {
      "cell_type": "code",
      "source": [
        "food = \"Python's favorite food is perl\""
      ],
      "metadata": {
        "id": "9Wq1zh_7JcOy"
      },
      "execution_count": null,
      "outputs": []
    },
    {
      "cell_type": "code",
      "source": [
        "food"
      ],
      "metadata": {
        "colab": {
          "base_uri": "https://localhost:8080/",
          "height": 35
        },
        "id": "Ea65QkQHJmob",
        "outputId": "061a1c4b-1d9c-458b-ce07-4bf42e35df7b"
      },
      "execution_count": null,
      "outputs": [
        {
          "output_type": "execute_result",
          "data": {
            "text/plain": [
              "\" Python's gavorite food is perl\""
            ],
            "application/vnd.google.colaboratory.intrinsic+json": {
              "type": "string"
            }
          },
          "metadata": {},
          "execution_count": 82
        }
      ]
    },
    {
      "cell_type": "markdown",
      "source": [
        "### 문자열에 큰따옴표 포함 시키기"
      ],
      "metadata": {
        "id": "fBXxTIISJ5Hc"
      }
    },
    {
      "cell_type": "code",
      "source": [
        "say = '\"python is easy.\" he say.'"
      ],
      "metadata": {
        "id": "ErAVKUAPJ8hi"
      },
      "execution_count": null,
      "outputs": []
    },
    {
      "cell_type": "code",
      "source": [
        "say"
      ],
      "metadata": {
        "colab": {
          "base_uri": "https://localhost:8080/",
          "height": 35
        },
        "id": "anDgGndNKQdz",
        "outputId": "40ccccf7-3d9f-40ae-edc7-0c860c3b9dcf"
      },
      "execution_count": null,
      "outputs": [
        {
          "output_type": "execute_result",
          "data": {
            "text/plain": [
              "'\"python is easy.\" he say.'"
            ],
            "application/vnd.google.colaboratory.intrinsic+json": {
              "type": "string"
            }
          },
          "metadata": {},
          "execution_count": 86
        }
      ]
    },
    {
      "cell_type": "markdown",
      "source": [
        "### 백슬래시 사용해서 작은 따옴표, 큰따옴표를 문자열에 포함시키기"
      ],
      "metadata": {
        "id": "xgWvSzF7Kntz"
      }
    },
    {
      "cell_type": "code",
      "source": [
        "food = 'python\\'s favorite food is perl'# 백슬래시는 \\으로 표시됨\n",
        "say = \"\\\"python is very easy.\\\"he says.\""
      ],
      "metadata": {
        "id": "In-0V6qzKu3s"
      },
      "execution_count": null,
      "outputs": []
    },
    {
      "cell_type": "markdown",
      "source": [
        "### 여러 줄인 문자열을 변수에 대입하고 싶을때"
      ],
      "metadata": {
        "id": "j9fF5oVoLwBS"
      }
    },
    {
      "cell_type": "code",
      "source": [
        "multiline = \"Life is too short\\nYou need python\" # 줄을 바꾸기 위해 \\n 삽입"
      ],
      "metadata": {
        "id": "BNT1x7DyL_dr"
      },
      "execution_count": null,
      "outputs": []
    },
    {
      "cell_type": "markdown",
      "source": [
        "### 연속된 작은따옴펴 3개 또는 큰따옴표 3개 사용하기"
      ],
      "metadata": {
        "id": "kwno5d-SMYjj"
      }
    },
    {
      "cell_type": "code",
      "source": [
        "multiline='''\n",
        "Life is too short\n",
        "You need python\n",
        "'''\n",
        "print(multiline)"
      ],
      "metadata": {
        "colab": {
          "base_uri": "https://localhost:8080/"
        },
        "id": "fvElbzEuMfzq",
        "outputId": "831c691e-769a-4b4e-ae78-caefaa090d64"
      },
      "execution_count": null,
      "outputs": [
        {
          "output_type": "stream",
          "name": "stdout",
          "text": [
            "\n",
            "Life is too short\n",
            "You need python\n",
            "\n"
          ]
        }
      ]
    },
    {
      "cell_type": "code",
      "source": [
        "multiline=\"\"\"\n",
        "Life is too short\n",
        "You need python\n",
        "\"\"\"\n",
        "print(multiline)"
      ],
      "metadata": {
        "colab": {
          "base_uri": "https://localhost:8080/"
        },
        "id": "IRhB4FplM2oj",
        "outputId": "5c0437c8-2d69-4e97-a231-3f64f9f173f3"
      },
      "execution_count": null,
      "outputs": [
        {
          "output_type": "stream",
          "name": "stdout",
          "text": [
            "\n",
            "Life is too short\n",
            "You need python\n",
            "\n"
          ]
        }
      ]
    },
    {
      "cell_type": "markdown",
      "source": [
        "### 이스케이프 코드란?\n",
        "- \\n\t문자열 안에서 줄을 바꿀 때 사용\n",
        "- \\t\t문자열 사이에 탭 간격을 줄 때 사용\n",
        "- \\\\\t문자 \\를 그대로 표현할 때 사용\n",
        "- \\'\t작은따옴표(')를 그대로 표현할 때 사용\n",
        "- \\\"\t큰따옴표(\")를 그대로 표현할 때 사용\n",
        "- \\r\t캐리지 리턴(줄 바꿈 문자, 현재 커서를 가장 앞으로 이동)\n",
        "- \\f\t폼 피드(줄 바꿈 문자, 현재 커서를 다음 줄로 이동)\n",
        "- \\a\t벨 소리(출력할 때 PC 스피커에서 '삑' 소리가 난다)\n",
        "- \\b\t백 스페이스\n",
        "- \\000\t널 문자"
      ],
      "metadata": {
        "id": "Dub9Sun2N-xU"
      }
    },
    {
      "cell_type": "markdown",
      "source": [
        "### 문자열 연산하기\n"
      ],
      "metadata": {
        "id": "x0aukLw-Obbm"
      }
    },
    {
      "cell_type": "code",
      "source": [
        "head = \"python\"\n",
        "tail = \" is fun\"\n",
        "head + tail"
      ],
      "metadata": {
        "colab": {
          "base_uri": "https://localhost:8080/",
          "height": 35
        },
        "id": "1V3H5kfpOgbd",
        "outputId": "57544eb1-caeb-421b-d5e5-f350c7f63221"
      },
      "execution_count": null,
      "outputs": [
        {
          "output_type": "execute_result",
          "data": {
            "text/plain": [
              "'python is fun'"
            ],
            "application/vnd.google.colaboratory.intrinsic+json": {
              "type": "string"
            }
          },
          "metadata": {},
          "execution_count": 102
        }
      ]
    },
    {
      "cell_type": "markdown",
      "source": [
        "###문자열 곱하기"
      ],
      "metadata": {
        "id": "6nNgaxpIO4KV"
      }
    },
    {
      "cell_type": "code",
      "source": [
        "a=\"python\"\n",
        "a*2"
      ],
      "metadata": {
        "colab": {
          "base_uri": "https://localhost:8080/",
          "height": 35
        },
        "id": "eQyfl8mLOteE",
        "outputId": "a3e70bf1-177d-45d2-8620-482678fc961b"
      },
      "execution_count": null,
      "outputs": [
        {
          "output_type": "execute_result",
          "data": {
            "text/plain": [
              "'pythonpython'"
            ],
            "application/vnd.google.colaboratory.intrinsic+json": {
              "type": "string"
            }
          },
          "metadata": {},
          "execution_count": 104
        }
      ]
    },
    {
      "cell_type": "code",
      "source": [
        "print(\"=\"*50)\n",
        "print(\"My Program\")\n",
        "print(\"=\"*50)"
      ],
      "metadata": {
        "colab": {
          "base_uri": "https://localhost:8080/"
        },
        "id": "z3lpJEnvQ5YU",
        "outputId": "64623c72-c410-4b40-e5f3-997a3854a59f"
      },
      "execution_count": null,
      "outputs": [
        {
          "output_type": "stream",
          "name": "stdout",
          "text": [
            "==================================================\n",
            "My Program\n",
            "==================================================\n"
          ]
        }
      ]
    },
    {
      "cell_type": "markdown",
      "source": [
        "### 문자열 길이 구하기"
      ],
      "metadata": {
        "id": "Xb3OQkw3Qqsn"
      }
    },
    {
      "cell_type": "code",
      "source": [
        "a = \"Life is too short\"\n",
        "len(a)"
      ],
      "metadata": {
        "colab": {
          "base_uri": "https://localhost:8080/"
        },
        "id": "d88Rg8A7QtSm",
        "outputId": "58779340-8130-4f29-8a29-49b60ea2acc1"
      },
      "execution_count": null,
      "outputs": [
        {
          "output_type": "execute_result",
          "data": {
            "text/plain": [
              "17"
            ]
          },
          "metadata": {},
          "execution_count": 106
        }
      ]
    },
    {
      "cell_type": "markdown",
      "source": [
        "### 문자열 인덱싱과 슬라이싱\n",
        " - 인덱싱 : 문자의 순서를 세는 것"
      ],
      "metadata": {
        "id": "JJsJyYjeRiFW"
      }
    },
    {
      "cell_type": "code",
      "source": [
        "a = \"Life is too short, You need python\"\n",
        "a[3]# 0부터 시작됨"
      ],
      "metadata": {
        "colab": {
          "base_uri": "https://localhost:8080/",
          "height": 35
        },
        "id": "5Cgg5wqeRq4l",
        "outputId": "f42e48a5-4050-49ab-ff1d-332555d400c3"
      },
      "execution_count": null,
      "outputs": [
        {
          "output_type": "execute_result",
          "data": {
            "text/plain": [
              "'e'"
            ],
            "application/vnd.google.colaboratory.intrinsic+json": {
              "type": "string"
            }
          },
          "metadata": {},
          "execution_count": 111
        }
      ]
    },
    {
      "cell_type": "markdown",
      "source": [
        "- 슬라이싱"
      ],
      "metadata": {
        "id": "OxyuvpZeaUyK"
      }
    },
    {
      "cell_type": "code",
      "source": [
        "a[0:5]# 마지막 숫자 전까지로 정리됨"
      ],
      "metadata": {
        "colab": {
          "base_uri": "https://localhost:8080/",
          "height": 35
        },
        "id": "HFBaCrguaXZX",
        "outputId": "2bd84984-3441-4090-a5e2-1bf1b4745a21"
      },
      "execution_count": null,
      "outputs": [
        {
          "output_type": "execute_result",
          "data": {
            "text/plain": [
              "'Life '"
            ],
            "application/vnd.google.colaboratory.intrinsic+json": {
              "type": "string"
            }
          },
          "metadata": {},
          "execution_count": 113
        }
      ]
    },
    {
      "cell_type": "code",
      "source": [
        "a[19:] # 끝번호 부분을 생략하면 시작번호 부터 끝까지 출력"
      ],
      "metadata": {
        "colab": {
          "base_uri": "https://localhost:8080/",
          "height": 35
        },
        "id": "DTSAOeONb47h",
        "outputId": "bec96e1c-7e54-4fe8-c891-7d1092eaf5b3"
      },
      "execution_count": null,
      "outputs": [
        {
          "output_type": "execute_result",
          "data": {
            "text/plain": [
              "'You need python'"
            ],
            "application/vnd.google.colaboratory.intrinsic+json": {
              "type": "string"
            }
          },
          "metadata": {},
          "execution_count": 114
        }
      ]
    },
    {
      "cell_type": "code",
      "source": [
        "a[:17] #시작 번호를 생략하면 처음부터 끝 번호까지 출력"
      ],
      "metadata": {
        "colab": {
          "base_uri": "https://localhost:8080/",
          "height": 35
        },
        "id": "DZLL6pu7b_rh",
        "outputId": "4ae3bb6f-776b-4af8-b29c-5b976f1d1d0b"
      },
      "execution_count": null,
      "outputs": [
        {
          "output_type": "execute_result",
          "data": {
            "text/plain": [
              "'Life is too short'"
            ],
            "application/vnd.google.colaboratory.intrinsic+json": {
              "type": "string"
            }
          },
          "metadata": {},
          "execution_count": 115
        }
      ]
    },
    {
      "cell_type": "code",
      "source": [
        "a[:] # 처음부터 끝까지 출력"
      ],
      "metadata": {
        "colab": {
          "base_uri": "https://localhost:8080/",
          "height": 35
        },
        "id": "io-uBu9TceUh",
        "outputId": "3f575919-789a-4bfe-d1c8-5c1708e82d90"
      },
      "execution_count": null,
      "outputs": [
        {
          "output_type": "execute_result",
          "data": {
            "text/plain": [
              "'Life is too short, You need python'"
            ],
            "application/vnd.google.colaboratory.intrinsic+json": {
              "type": "string"
            }
          },
          "metadata": {},
          "execution_count": 116
        }
      ]
    },
    {
      "cell_type": "code",
      "source": [
        "a[19:-7] # 마이너스 기로 사용 가능"
      ],
      "metadata": {
        "colab": {
          "base_uri": "https://localhost:8080/",
          "height": 35
        },
        "id": "HQBbfzUhckdo",
        "outputId": "cf4ae281-087f-4ff4-b7eb-3e3f7011e94b"
      },
      "execution_count": null,
      "outputs": [
        {
          "output_type": "execute_result",
          "data": {
            "text/plain": [
              "'You need'"
            ],
            "application/vnd.google.colaboratory.intrinsic+json": {
              "type": "string"
            }
          },
          "metadata": {},
          "execution_count": 117
        }
      ]
    },
    {
      "cell_type": "markdown",
      "source": [
        "### 슬라이싱으로 문자열 나누기"
      ],
      "metadata": {
        "id": "9ZD01hEEcz5c"
      }
    },
    {
      "cell_type": "code",
      "source": [
        "a = \"20010331Rainy\"\n",
        "date = a[:8]\n",
        "weather= a[8:]\n",
        "date"
      ],
      "metadata": {
        "colab": {
          "base_uri": "https://localhost:8080/",
          "height": 35
        },
        "id": "Vew_TCZlc73c",
        "outputId": "962c0f3b-7b2a-435f-e5a7-3964bb307996"
      },
      "execution_count": null,
      "outputs": [
        {
          "output_type": "execute_result",
          "data": {
            "text/plain": [
              "'20010331'"
            ],
            "application/vnd.google.colaboratory.intrinsic+json": {
              "type": "string"
            }
          },
          "metadata": {},
          "execution_count": 123
        }
      ]
    },
    {
      "cell_type": "code",
      "source": [
        "weather"
      ],
      "metadata": {
        "colab": {
          "base_uri": "https://localhost:8080/",
          "height": 35
        },
        "id": "TUc5Wbyhdd7j",
        "outputId": "9579adb2-c3f3-4bbd-b683-992fdecb8c73"
      },
      "execution_count": null,
      "outputs": [
        {
          "output_type": "execute_result",
          "data": {
            "text/plain": [
              "'Rainy'"
            ],
            "application/vnd.google.colaboratory.intrinsic+json": {
              "type": "string"
            }
          },
          "metadata": {},
          "execution_count": 124
        }
      ]
    },
    {
      "cell_type": "code",
      "source": [
        "a = \"pithon\" # i를 y로 바꾸는 방법\n",
        "a[:1]\n",
        "a[2:]\n",
        "a[:1]+'y'+a[2:]"
      ],
      "metadata": {
        "colab": {
          "base_uri": "https://localhost:8080/",
          "height": 35
        },
        "id": "AgnEUmtXeaN6",
        "outputId": "f3a99f6f-7d02-4285-87dd-543140c4d283"
      },
      "execution_count": null,
      "outputs": [
        {
          "output_type": "execute_result",
          "data": {
            "text/plain": [
              "'python'"
            ],
            "application/vnd.google.colaboratory.intrinsic+json": {
              "type": "string"
            }
          },
          "metadata": {},
          "execution_count": 126
        }
      ]
    },
    {
      "cell_type": "markdown",
      "source": [
        "### 문자열 포매팅\n",
        " - 문자열 안의 특정한 값을 바꿔야 할 경우 사용하는 것"
      ],
      "metadata": {
        "id": "ouBQwDnqfFlK"
      }
    },
    {
      "cell_type": "code",
      "source": [
        "\"i eat %d apples\" % 3 #  숫자를 바로 대입"
      ],
      "metadata": {
        "colab": {
          "base_uri": "https://localhost:8080/",
          "height": 35
        },
        "id": "urRn4hZ1frGg",
        "outputId": "5e800c1e-1976-4b8f-dc3a-053c1e6c029b"
      },
      "execution_count": null,
      "outputs": [
        {
          "output_type": "execute_result",
          "data": {
            "text/plain": [
              "'i eat 3 apples'"
            ],
            "application/vnd.google.colaboratory.intrinsic+json": {
              "type": "string"
            }
          },
          "metadata": {},
          "execution_count": 130
        }
      ]
    },
    {
      "cell_type": "code",
      "source": [
        "\"i eat %s apples\" % \"five\" # 문자열 바로 대입"
      ],
      "metadata": {
        "colab": {
          "base_uri": "https://localhost:8080/",
          "height": 35
        },
        "id": "jP0yvmSRf8O7",
        "outputId": "f645cdff-28a5-4dc9-8721-614c28f80681"
      },
      "execution_count": null,
      "outputs": [
        {
          "output_type": "execute_result",
          "data": {
            "text/plain": [
              "'i eat five apples'"
            ],
            "application/vnd.google.colaboratory.intrinsic+json": {
              "type": "string"
            }
          },
          "metadata": {},
          "execution_count": 131
        }
      ]
    },
    {
      "cell_type": "markdown",
      "source": [
        "### 숫자 값을 나타내는 변수로 대입"
      ],
      "metadata": {
        "id": "9zQKY3Bz52B0"
      }
    },
    {
      "cell_type": "code",
      "source": [
        "number = 3\n",
        "\"i eat %d apples\" % number"
      ],
      "metadata": {
        "colab": {
          "base_uri": "https://localhost:8080/",
          "height": 35
        },
        "id": "Fde44Q4g571E",
        "outputId": "28d8f115-bc16-498e-c3ef-12449de17a77"
      },
      "execution_count": null,
      "outputs": [
        {
          "output_type": "execute_result",
          "data": {
            "text/plain": [
              "'i eat 3 apples'"
            ],
            "application/vnd.google.colaboratory.intrinsic+json": {
              "type": "string"
            }
          },
          "metadata": {},
          "execution_count": 183
        }
      ]
    }
  ]
}